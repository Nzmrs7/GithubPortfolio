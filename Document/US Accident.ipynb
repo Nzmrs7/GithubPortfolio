{
 "cells": [
  {
   "cell_type": "code",
   "execution_count": 1,
   "id": "bce54b8e",
   "metadata": {},
   "outputs": [],
   "source": [
    "import pandas as pd\n",
    "import sqlite3 as sql"
   ]
  },
  {
   "cell_type": "code",
   "execution_count": 2,
   "id": "d9a3ecc4",
   "metadata": {},
   "outputs": [
    {
     "name": "stdout",
     "output_type": "stream",
     "text": [
      "Requirement already satisfied: ipython-sql in c:\\users\\nurzahidah\\anaconda3\\lib\\site-packages (0.4.1)\n",
      "Requirement already satisfied: ipython>=1.0 in c:\\users\\nurzahidah\\anaconda3\\lib\\site-packages (from ipython-sql) (8.2.0)\n",
      "Requirement already satisfied: ipython-genutils>=0.1.0 in c:\\users\\nurzahidah\\anaconda3\\lib\\site-packages (from ipython-sql) (0.2.0)\n",
      "Requirement already satisfied: six in c:\\users\\nurzahidah\\anaconda3\\lib\\site-packages (from ipython-sql) (1.16.0)\n",
      "Requirement already satisfied: sqlalchemy>=0.6.7 in c:\\users\\nurzahidah\\anaconda3\\lib\\site-packages (from ipython-sql) (1.4.32)\n",
      "Requirement already satisfied: sqlparse in c:\\users\\nurzahidah\\anaconda3\\lib\\site-packages (from ipython-sql) (0.4.2)\n",
      "Requirement already satisfied: prettytable<1 in c:\\users\\nurzahidah\\anaconda3\\lib\\site-packages (from ipython-sql) (0.7.2)\n",
      "Requirement already satisfied: pickleshare in c:\\users\\nurzahidah\\anaconda3\\lib\\site-packages (from ipython>=1.0->ipython-sql) (0.7.5)\n",
      "Requirement already satisfied: backcall in c:\\users\\nurzahidah\\anaconda3\\lib\\site-packages (from ipython>=1.0->ipython-sql) (0.2.0)\n",
      "Requirement already satisfied: setuptools>=18.5 in c:\\users\\nurzahidah\\anaconda3\\lib\\site-packages (from ipython>=1.0->ipython-sql) (61.2.0)\n",
      "Requirement already satisfied: stack-data in c:\\users\\nurzahidah\\anaconda3\\lib\\site-packages (from ipython>=1.0->ipython-sql) (0.2.0)\n",
      "Requirement already satisfied: matplotlib-inline in c:\\users\\nurzahidah\\anaconda3\\lib\\site-packages (from ipython>=1.0->ipython-sql) (0.1.2)\n",
      "Requirement already satisfied: prompt-toolkit!=3.0.0,!=3.0.1,<3.1.0,>=2.0.0 in c:\\users\\nurzahidah\\anaconda3\\lib\\site-packages (from ipython>=1.0->ipython-sql) (3.0.20)\n",
      "Requirement already satisfied: jedi>=0.16 in c:\\users\\nurzahidah\\anaconda3\\lib\\site-packages (from ipython>=1.0->ipython-sql) (0.18.1)\n",
      "Requirement already satisfied: pygments>=2.4.0 in c:\\users\\nurzahidah\\anaconda3\\lib\\site-packages (from ipython>=1.0->ipython-sql) (2.11.2)\n",
      "Requirement already satisfied: traitlets>=5 in c:\\users\\nurzahidah\\anaconda3\\lib\\site-packages (from ipython>=1.0->ipython-sql) (5.1.1)\n",
      "Requirement already satisfied: colorama in c:\\users\\nurzahidah\\anaconda3\\lib\\site-packages (from ipython>=1.0->ipython-sql) (0.4.4)\n",
      "Requirement already satisfied: decorator in c:\\users\\nurzahidah\\anaconda3\\lib\\site-packages (from ipython>=1.0->ipython-sql) (5.1.1)\n",
      "Requirement already satisfied: parso<0.9.0,>=0.8.0 in c:\\users\\nurzahidah\\anaconda3\\lib\\site-packages (from jedi>=0.16->ipython>=1.0->ipython-sql) (0.8.3)\n",
      "Requirement already satisfied: wcwidth in c:\\users\\nurzahidah\\anaconda3\\lib\\site-packages (from prompt-toolkit!=3.0.0,!=3.0.1,<3.1.0,>=2.0.0->ipython>=1.0->ipython-sql) (0.2.5)\n",
      "Requirement already satisfied: greenlet!=0.4.17 in c:\\users\\nurzahidah\\anaconda3\\lib\\site-packages (from sqlalchemy>=0.6.7->ipython-sql) (1.1.1)\n",
      "Requirement already satisfied: asttokens in c:\\users\\nurzahidah\\anaconda3\\lib\\site-packages (from stack-data->ipython>=1.0->ipython-sql) (2.0.5)\n",
      "Requirement already satisfied: pure-eval in c:\\users\\nurzahidah\\anaconda3\\lib\\site-packages (from stack-data->ipython>=1.0->ipython-sql) (0.2.2)\n",
      "Requirement already satisfied: executing in c:\\users\\nurzahidah\\anaconda3\\lib\\site-packages (from stack-data->ipython>=1.0->ipython-sql) (0.8.3)\n",
      "Note: you may need to restart the kernel to use updated packages.\n"
     ]
    }
   ],
   "source": [
    "pip install ipython-sql"
   ]
  },
  {
   "cell_type": "code",
   "execution_count": 3,
   "id": "e92d0e59",
   "metadata": {},
   "outputs": [
    {
     "data": {
      "text/html": [
       "<div>\n",
       "<style scoped>\n",
       "    .dataframe tbody tr th:only-of-type {\n",
       "        vertical-align: middle;\n",
       "    }\n",
       "\n",
       "    .dataframe tbody tr th {\n",
       "        vertical-align: top;\n",
       "    }\n",
       "\n",
       "    .dataframe thead th {\n",
       "        text-align: right;\n",
       "    }\n",
       "</style>\n",
       "<table border=\"1\" class=\"dataframe\">\n",
       "  <thead>\n",
       "    <tr style=\"text-align: right;\">\n",
       "      <th></th>\n",
       "      <th>ID</th>\n",
       "      <th>Severity</th>\n",
       "      <th>Start_Time</th>\n",
       "      <th>End_Time</th>\n",
       "      <th>Start_Lat</th>\n",
       "      <th>Start_Lng</th>\n",
       "      <th>End_Lat</th>\n",
       "      <th>End_Lng</th>\n",
       "      <th>Distance(mi)</th>\n",
       "      <th>Description</th>\n",
       "      <th>...</th>\n",
       "      <th>Roundabout</th>\n",
       "      <th>Station</th>\n",
       "      <th>Stop</th>\n",
       "      <th>Traffic_Calming</th>\n",
       "      <th>Traffic_Signal</th>\n",
       "      <th>Turning_Loop</th>\n",
       "      <th>Sunrise_Sunset</th>\n",
       "      <th>Civil_Twilight</th>\n",
       "      <th>Nautical_Twilight</th>\n",
       "      <th>Astronomical_Twilight</th>\n",
       "    </tr>\n",
       "  </thead>\n",
       "  <tbody>\n",
       "    <tr>\n",
       "      <th>0</th>\n",
       "      <td>A-1</td>\n",
       "      <td>3</td>\n",
       "      <td>2016-02-08 00:37:08</td>\n",
       "      <td>2016-02-08 06:37:08</td>\n",
       "      <td>40.108910</td>\n",
       "      <td>-83.092860</td>\n",
       "      <td>40.112060</td>\n",
       "      <td>-83.031870</td>\n",
       "      <td>3.230</td>\n",
       "      <td>Between Sawmill Rd/Exit 20 and OH-315/Olentang...</td>\n",
       "      <td>...</td>\n",
       "      <td>False</td>\n",
       "      <td>False</td>\n",
       "      <td>False</td>\n",
       "      <td>False</td>\n",
       "      <td>False</td>\n",
       "      <td>False</td>\n",
       "      <td>Night</td>\n",
       "      <td>Night</td>\n",
       "      <td>Night</td>\n",
       "      <td>Night</td>\n",
       "    </tr>\n",
       "    <tr>\n",
       "      <th>1</th>\n",
       "      <td>A-2</td>\n",
       "      <td>2</td>\n",
       "      <td>2016-02-08 05:56:20</td>\n",
       "      <td>2016-02-08 11:56:20</td>\n",
       "      <td>39.865420</td>\n",
       "      <td>-84.062800</td>\n",
       "      <td>39.865010</td>\n",
       "      <td>-84.048730</td>\n",
       "      <td>0.747</td>\n",
       "      <td>At OH-4/OH-235/Exit 41 - Accident.</td>\n",
       "      <td>...</td>\n",
       "      <td>False</td>\n",
       "      <td>False</td>\n",
       "      <td>False</td>\n",
       "      <td>False</td>\n",
       "      <td>False</td>\n",
       "      <td>False</td>\n",
       "      <td>Night</td>\n",
       "      <td>Night</td>\n",
       "      <td>Night</td>\n",
       "      <td>Night</td>\n",
       "    </tr>\n",
       "    <tr>\n",
       "      <th>2</th>\n",
       "      <td>A-3</td>\n",
       "      <td>2</td>\n",
       "      <td>2016-02-08 06:15:39</td>\n",
       "      <td>2016-02-08 12:15:39</td>\n",
       "      <td>39.102660</td>\n",
       "      <td>-84.524680</td>\n",
       "      <td>39.102090</td>\n",
       "      <td>-84.523960</td>\n",
       "      <td>0.055</td>\n",
       "      <td>At I-71/US-50/Exit 1 - Accident.</td>\n",
       "      <td>...</td>\n",
       "      <td>False</td>\n",
       "      <td>False</td>\n",
       "      <td>False</td>\n",
       "      <td>False</td>\n",
       "      <td>False</td>\n",
       "      <td>False</td>\n",
       "      <td>Night</td>\n",
       "      <td>Night</td>\n",
       "      <td>Night</td>\n",
       "      <td>Day</td>\n",
       "    </tr>\n",
       "    <tr>\n",
       "      <th>3</th>\n",
       "      <td>A-4</td>\n",
       "      <td>2</td>\n",
       "      <td>2016-02-08 06:51:45</td>\n",
       "      <td>2016-02-08 12:51:45</td>\n",
       "      <td>41.062130</td>\n",
       "      <td>-81.537840</td>\n",
       "      <td>41.062170</td>\n",
       "      <td>-81.535470</td>\n",
       "      <td>0.123</td>\n",
       "      <td>At Dart Ave/Exit 21 - Accident.</td>\n",
       "      <td>...</td>\n",
       "      <td>False</td>\n",
       "      <td>False</td>\n",
       "      <td>False</td>\n",
       "      <td>False</td>\n",
       "      <td>False</td>\n",
       "      <td>False</td>\n",
       "      <td>Night</td>\n",
       "      <td>Night</td>\n",
       "      <td>Day</td>\n",
       "      <td>Day</td>\n",
       "    </tr>\n",
       "    <tr>\n",
       "      <th>4</th>\n",
       "      <td>A-5</td>\n",
       "      <td>3</td>\n",
       "      <td>2016-02-08 07:53:43</td>\n",
       "      <td>2016-02-08 13:53:43</td>\n",
       "      <td>39.172393</td>\n",
       "      <td>-84.492792</td>\n",
       "      <td>39.170476</td>\n",
       "      <td>-84.501798</td>\n",
       "      <td>0.500</td>\n",
       "      <td>At Mitchell Ave/Exit 6 - Accident.</td>\n",
       "      <td>...</td>\n",
       "      <td>False</td>\n",
       "      <td>False</td>\n",
       "      <td>False</td>\n",
       "      <td>False</td>\n",
       "      <td>False</td>\n",
       "      <td>False</td>\n",
       "      <td>Day</td>\n",
       "      <td>Day</td>\n",
       "      <td>Day</td>\n",
       "      <td>Day</td>\n",
       "    </tr>\n",
       "  </tbody>\n",
       "</table>\n",
       "<p>5 rows × 47 columns</p>\n",
       "</div>"
      ],
      "text/plain": [
       "    ID  Severity           Start_Time             End_Time  Start_Lat  \\\n",
       "0  A-1         3  2016-02-08 00:37:08  2016-02-08 06:37:08  40.108910   \n",
       "1  A-2         2  2016-02-08 05:56:20  2016-02-08 11:56:20  39.865420   \n",
       "2  A-3         2  2016-02-08 06:15:39  2016-02-08 12:15:39  39.102660   \n",
       "3  A-4         2  2016-02-08 06:51:45  2016-02-08 12:51:45  41.062130   \n",
       "4  A-5         3  2016-02-08 07:53:43  2016-02-08 13:53:43  39.172393   \n",
       "\n",
       "   Start_Lng    End_Lat    End_Lng  Distance(mi)  \\\n",
       "0 -83.092860  40.112060 -83.031870         3.230   \n",
       "1 -84.062800  39.865010 -84.048730         0.747   \n",
       "2 -84.524680  39.102090 -84.523960         0.055   \n",
       "3 -81.537840  41.062170 -81.535470         0.123   \n",
       "4 -84.492792  39.170476 -84.501798         0.500   \n",
       "\n",
       "                                         Description  ...  Roundabout Station  \\\n",
       "0  Between Sawmill Rd/Exit 20 and OH-315/Olentang...  ...       False   False   \n",
       "1                 At OH-4/OH-235/Exit 41 - Accident.  ...       False   False   \n",
       "2                   At I-71/US-50/Exit 1 - Accident.  ...       False   False   \n",
       "3                    At Dart Ave/Exit 21 - Accident.  ...       False   False   \n",
       "4                 At Mitchell Ave/Exit 6 - Accident.  ...       False   False   \n",
       "\n",
       "    Stop Traffic_Calming Traffic_Signal Turning_Loop Sunrise_Sunset  \\\n",
       "0  False           False          False        False          Night   \n",
       "1  False           False          False        False          Night   \n",
       "2  False           False          False        False          Night   \n",
       "3  False           False          False        False          Night   \n",
       "4  False           False          False        False            Day   \n",
       "\n",
       "  Civil_Twilight Nautical_Twilight Astronomical_Twilight  \n",
       "0          Night             Night                 Night  \n",
       "1          Night             Night                 Night  \n",
       "2          Night             Night                   Day  \n",
       "3          Night               Day                   Day  \n",
       "4            Day               Day                   Day  \n",
       "\n",
       "[5 rows x 47 columns]"
      ]
     },
     "execution_count": 3,
     "metadata": {},
     "output_type": "execute_result"
    }
   ],
   "source": [
    "df = pd.read_csv(\"US_Accidents_Dec21_updated.csv\")\n",
    "df.head(5)"
   ]
  },
  {
   "cell_type": "code",
   "execution_count": 4,
   "id": "ff4c5aab",
   "metadata": {},
   "outputs": [
    {
     "data": {
      "text/html": [
       "<div>\n",
       "<style scoped>\n",
       "    .dataframe tbody tr th:only-of-type {\n",
       "        vertical-align: middle;\n",
       "    }\n",
       "\n",
       "    .dataframe tbody tr th {\n",
       "        vertical-align: top;\n",
       "    }\n",
       "\n",
       "    .dataframe thead th {\n",
       "        text-align: right;\n",
       "    }\n",
       "</style>\n",
       "<table border=\"1\" class=\"dataframe\">\n",
       "  <thead>\n",
       "    <tr style=\"text-align: right;\">\n",
       "      <th></th>\n",
       "      <th>Date</th>\n",
       "      <th>Holiday</th>\n",
       "      <th>WeekDay</th>\n",
       "      <th>Month</th>\n",
       "      <th>Day</th>\n",
       "      <th>Year</th>\n",
       "    </tr>\n",
       "  </thead>\n",
       "  <tbody>\n",
       "    <tr>\n",
       "      <th>0</th>\n",
       "      <td>2004-07-04</td>\n",
       "      <td>4th of July</td>\n",
       "      <td>Sunday</td>\n",
       "      <td>7</td>\n",
       "      <td>4</td>\n",
       "      <td>2004</td>\n",
       "    </tr>\n",
       "    <tr>\n",
       "      <th>1</th>\n",
       "      <td>2005-07-04</td>\n",
       "      <td>4th of July</td>\n",
       "      <td>Monday</td>\n",
       "      <td>7</td>\n",
       "      <td>4</td>\n",
       "      <td>2005</td>\n",
       "    </tr>\n",
       "    <tr>\n",
       "      <th>2</th>\n",
       "      <td>2006-07-04</td>\n",
       "      <td>4th of July</td>\n",
       "      <td>Tuesday</td>\n",
       "      <td>7</td>\n",
       "      <td>4</td>\n",
       "      <td>2006</td>\n",
       "    </tr>\n",
       "    <tr>\n",
       "      <th>3</th>\n",
       "      <td>2007-07-04</td>\n",
       "      <td>4th of July</td>\n",
       "      <td>Wednesday</td>\n",
       "      <td>7</td>\n",
       "      <td>4</td>\n",
       "      <td>2007</td>\n",
       "    </tr>\n",
       "    <tr>\n",
       "      <th>4</th>\n",
       "      <td>2008-07-04</td>\n",
       "      <td>4th of July</td>\n",
       "      <td>Friday</td>\n",
       "      <td>7</td>\n",
       "      <td>4</td>\n",
       "      <td>2008</td>\n",
       "    </tr>\n",
       "  </tbody>\n",
       "</table>\n",
       "</div>"
      ],
      "text/plain": [
       "         Date      Holiday    WeekDay  Month  Day  Year\n",
       "0  2004-07-04  4th of July     Sunday      7    4  2004\n",
       "1  2005-07-04  4th of July     Monday      7    4  2005\n",
       "2  2006-07-04  4th of July    Tuesday      7    4  2006\n",
       "3  2007-07-04  4th of July  Wednesday      7    4  2007\n",
       "4  2008-07-04  4th of July     Friday      7    4  2008"
      ]
     },
     "execution_count": 4,
     "metadata": {},
     "output_type": "execute_result"
    }
   ],
   "source": [
    "df_holiday = pd.read_csv(\"US Holiday Dates (2004-2021).csv\")\n",
    "df_holiday.head(5)"
   ]
  },
  {
   "cell_type": "code",
   "execution_count": 5,
   "id": "db66f441",
   "metadata": {},
   "outputs": [],
   "source": [
    "# if already connected, comment this line\n",
    "cnn = sql.connect('accident.db')\n",
    "cnn1 = sql.connect('holiday.db')"
   ]
  },
  {
   "cell_type": "code",
   "execution_count": 6,
   "id": "3466776c",
   "metadata": {},
   "outputs": [
    {
     "data": {
      "text/plain": [
       "2845342"
      ]
     },
     "execution_count": 6,
     "metadata": {},
     "output_type": "execute_result"
    }
   ],
   "source": [
    "# populate dataframe to database, if already populated comment out this line\n",
    "df.to_sql('accident',cnn)"
   ]
  },
  {
   "cell_type": "code",
   "execution_count": 7,
   "id": "bdee84cc",
   "metadata": {},
   "outputs": [
    {
     "data": {
      "text/plain": [
       "342"
      ]
     },
     "execution_count": 7,
     "metadata": {},
     "output_type": "execute_result"
    }
   ],
   "source": [
    "# populate dataframe to database, if already populated comment out this line\n",
    "df_holiday.to_sql('holiday',cnn1)"
   ]
  },
  {
   "cell_type": "code",
   "execution_count": 8,
   "id": "a6765965",
   "metadata": {},
   "outputs": [],
   "source": [
    "%load_ext sql"
   ]
  },
  {
   "cell_type": "code",
   "execution_count": 9,
   "id": "c8718c02",
   "metadata": {},
   "outputs": [],
   "source": [
    "%sql sqlite://\n"
   ]
  },
  {
   "cell_type": "code",
   "execution_count": 10,
   "id": "bf1911af",
   "metadata": {},
   "outputs": [
    {
     "name": "stdout",
     "output_type": "stream",
     "text": [
      "   sqlite://\n",
      " * sqlite:///accident.db\n",
      "Done.\n"
     ]
    },
    {
     "data": {
      "text/plain": [
       "[]"
      ]
     },
     "execution_count": 10,
     "metadata": {},
     "output_type": "execute_result"
    }
   ],
   "source": [
    "%sql sqlite:///accident.db\n",
    "%sql ATTACH DATABASE 'holiday.db' as 'holiday';\n"
   ]
  },
  {
   "cell_type": "code",
   "execution_count": 12,
   "id": "b549e06e",
   "metadata": {},
   "outputs": [
    {
     "name": "stdout",
     "output_type": "stream",
     "text": [
      "   sqlite://\n",
      " * sqlite:///accident.db\n",
      "(sqlite3.OperationalError) database holiday is already in use\n",
      "[SQL: ATTACH DATABASE 'holiday.db' as 'holiday' ;]\n",
      "(Background on this error at: https://sqlalche.me/e/14/e3q8)\n"
     ]
    }
   ],
   "source": [
    "%sql ATTACH DATABASE 'holiday.db' as 'holiday';"
   ]
  },
  {
   "cell_type": "code",
   "execution_count": 63,
   "id": "2a0449a6",
   "metadata": {},
   "outputs": [
    {
     "name": "stdout",
     "output_type": "stream",
     "text": [
      "   sqlite://\n",
      " * sqlite:///accident.db\n",
      "Done.\n"
     ]
    },
    {
     "data": {
      "text/html": [
       "<table>\n",
       "    <tr>\n",
       "        <th>index</th>\n",
       "        <th>ID</th>\n",
       "        <th>Severity</th>\n",
       "        <th>Start_Time</th>\n",
       "        <th>End_Time</th>\n",
       "        <th>Start_Lat</th>\n",
       "        <th>Start_Lng</th>\n",
       "        <th>End_Lat</th>\n",
       "        <th>End_Lng</th>\n",
       "        <th>Distance(mi)</th>\n",
       "        <th>Description</th>\n",
       "        <th>Number</th>\n",
       "        <th>Street</th>\n",
       "        <th>Side</th>\n",
       "        <th>City</th>\n",
       "        <th>County</th>\n",
       "        <th>State</th>\n",
       "        <th>Zipcode</th>\n",
       "        <th>Country</th>\n",
       "        <th>Timezone</th>\n",
       "        <th>Airport_Code</th>\n",
       "        <th>Weather_Timestamp</th>\n",
       "        <th>Temperature(F)</th>\n",
       "        <th>Wind_Chill(F)</th>\n",
       "        <th>Humidity(%)</th>\n",
       "        <th>Pressure(in)</th>\n",
       "        <th>Visibility</th>\n",
       "        <th>Wind_Direction</th>\n",
       "        <th>Wind_Speed(mph)</th>\n",
       "        <th>Precipitation(in)</th>\n",
       "        <th>Weather_Condition</th>\n",
       "        <th>Amenity</th>\n",
       "        <th>Bump</th>\n",
       "        <th>Crossing</th>\n",
       "        <th>Give_Way</th>\n",
       "        <th>Junction</th>\n",
       "        <th>No_Exit</th>\n",
       "        <th>Railway</th>\n",
       "        <th>Roundabout</th>\n",
       "        <th>Station</th>\n",
       "        <th>Stop</th>\n",
       "        <th>Traffic_Calming</th>\n",
       "        <th>Traffic_Signal</th>\n",
       "        <th>Turning_Loop</th>\n",
       "        <th>Sunrise_Sunset</th>\n",
       "        <th>Civil_Twilight</th>\n",
       "        <th>Nautical_Twilight</th>\n",
       "        <th>Astronomical_Twilight</th>\n",
       "        <th>Date</th>\n",
       "        <th>Accident_month</th>\n",
       "        <th>Accident_year</th>\n",
       "        <th>Accident_Hour</th>\n",
       "        <th>Accident_Day</th>\n",
       "    </tr>\n",
       "    <tr>\n",
       "        <td>0</td>\n",
       "        <td>A-1</td>\n",
       "        <td>3</td>\n",
       "        <td>2016-02-08 00:37:08</td>\n",
       "        <td>2016-02-08 06:37:08</td>\n",
       "        <td>40.10891</td>\n",
       "        <td>-83.09286</td>\n",
       "        <td>40.11206</td>\n",
       "        <td>-83.03187</td>\n",
       "        <td>3.23</td>\n",
       "        <td>Between Sawmill Rd/Exit 20 and OH-315/Olentangy Riv Rd/Exit 22 - Accident.</td>\n",
       "        <td>None</td>\n",
       "        <td>Outerbelt E</td>\n",
       "        <td>R</td>\n",
       "        <td>Dublin</td>\n",
       "        <td>Franklin</td>\n",
       "        <td>OH</td>\n",
       "        <td>43017</td>\n",
       "        <td>US</td>\n",
       "        <td>US/Eastern</td>\n",
       "        <td>KOSU</td>\n",
       "        <td>2016-02-08 00:53:00</td>\n",
       "        <td>42.1</td>\n",
       "        <td>36.1</td>\n",
       "        <td>58.0</td>\n",
       "        <td>29.76</td>\n",
       "        <td>10.0</td>\n",
       "        <td>SW</td>\n",
       "        <td>10.4</td>\n",
       "        <td>0.0</td>\n",
       "        <td>Light Rain</td>\n",
       "        <td>0</td>\n",
       "        <td>0</td>\n",
       "        <td>0</td>\n",
       "        <td>0</td>\n",
       "        <td>0</td>\n",
       "        <td>0</td>\n",
       "        <td>0</td>\n",
       "        <td>0</td>\n",
       "        <td>0</td>\n",
       "        <td>0</td>\n",
       "        <td>0</td>\n",
       "        <td>0</td>\n",
       "        <td>0</td>\n",
       "        <td>Night</td>\n",
       "        <td>Night</td>\n",
       "        <td>Night</td>\n",
       "        <td>Night</td>\n",
       "        <td>2016-02-08</td>\n",
       "        <td>2</td>\n",
       "        <td>2016</td>\n",
       "        <td>0</td>\n",
       "        <td>8</td>\n",
       "    </tr>\n",
       "    <tr>\n",
       "        <td>1</td>\n",
       "        <td>A-2</td>\n",
       "        <td>2</td>\n",
       "        <td>2016-02-08 05:56:20</td>\n",
       "        <td>2016-02-08 11:56:20</td>\n",
       "        <td>39.86542</td>\n",
       "        <td>-84.0628</td>\n",
       "        <td>39.86501</td>\n",
       "        <td>-84.04873</td>\n",
       "        <td>0.747</td>\n",
       "        <td>At OH-4/OH-235/Exit 41 - Accident.</td>\n",
       "        <td>None</td>\n",
       "        <td>I-70 E</td>\n",
       "        <td>R</td>\n",
       "        <td>Dayton</td>\n",
       "        <td>Montgomery</td>\n",
       "        <td>OH</td>\n",
       "        <td>45424</td>\n",
       "        <td>US</td>\n",
       "        <td>US/Eastern</td>\n",
       "        <td>KFFO</td>\n",
       "        <td>2016-02-08 05:58:00</td>\n",
       "        <td>36.9</td>\n",
       "        <td>None</td>\n",
       "        <td>91.0</td>\n",
       "        <td>29.68</td>\n",
       "        <td>10.0</td>\n",
       "        <td>Calm</td>\n",
       "        <td>None</td>\n",
       "        <td>0.02</td>\n",
       "        <td>Light Rain</td>\n",
       "        <td>0</td>\n",
       "        <td>0</td>\n",
       "        <td>0</td>\n",
       "        <td>0</td>\n",
       "        <td>0</td>\n",
       "        <td>0</td>\n",
       "        <td>0</td>\n",
       "        <td>0</td>\n",
       "        <td>0</td>\n",
       "        <td>0</td>\n",
       "        <td>0</td>\n",
       "        <td>0</td>\n",
       "        <td>0</td>\n",
       "        <td>Night</td>\n",
       "        <td>Night</td>\n",
       "        <td>Night</td>\n",
       "        <td>Night</td>\n",
       "        <td>2016-02-08</td>\n",
       "        <td>2</td>\n",
       "        <td>2016</td>\n",
       "        <td>5</td>\n",
       "        <td>8</td>\n",
       "    </tr>\n",
       "    <tr>\n",
       "        <td>2</td>\n",
       "        <td>A-3</td>\n",
       "        <td>2</td>\n",
       "        <td>2016-02-08 06:15:39</td>\n",
       "        <td>2016-02-08 12:15:39</td>\n",
       "        <td>39.10266</td>\n",
       "        <td>-84.52468</td>\n",
       "        <td>39.10209</td>\n",
       "        <td>-84.52396</td>\n",
       "        <td>0.055</td>\n",
       "        <td>At I-71/US-50/Exit 1 - Accident.</td>\n",
       "        <td>None</td>\n",
       "        <td>I-75 S</td>\n",
       "        <td>R</td>\n",
       "        <td>Cincinnati</td>\n",
       "        <td>Hamilton</td>\n",
       "        <td>OH</td>\n",
       "        <td>45203</td>\n",
       "        <td>US</td>\n",
       "        <td>US/Eastern</td>\n",
       "        <td>KLUK</td>\n",
       "        <td>2016-02-08 05:53:00</td>\n",
       "        <td>36.0</td>\n",
       "        <td>None</td>\n",
       "        <td>97.0</td>\n",
       "        <td>29.7</td>\n",
       "        <td>10.0</td>\n",
       "        <td>Calm</td>\n",
       "        <td>None</td>\n",
       "        <td>0.02</td>\n",
       "        <td>Overcast</td>\n",
       "        <td>0</td>\n",
       "        <td>0</td>\n",
       "        <td>0</td>\n",
       "        <td>0</td>\n",
       "        <td>1</td>\n",
       "        <td>0</td>\n",
       "        <td>0</td>\n",
       "        <td>0</td>\n",
       "        <td>0</td>\n",
       "        <td>0</td>\n",
       "        <td>0</td>\n",
       "        <td>0</td>\n",
       "        <td>0</td>\n",
       "        <td>Night</td>\n",
       "        <td>Night</td>\n",
       "        <td>Night</td>\n",
       "        <td>Day</td>\n",
       "        <td>2016-02-08</td>\n",
       "        <td>2</td>\n",
       "        <td>2016</td>\n",
       "        <td>6</td>\n",
       "        <td>8</td>\n",
       "    </tr>\n",
       "    <tr>\n",
       "        <td>3</td>\n",
       "        <td>A-4</td>\n",
       "        <td>2</td>\n",
       "        <td>2016-02-08 06:51:45</td>\n",
       "        <td>2016-02-08 12:51:45</td>\n",
       "        <td>41.06213</td>\n",
       "        <td>-81.53784</td>\n",
       "        <td>41.06217</td>\n",
       "        <td>-81.53546999999998</td>\n",
       "        <td>0.123</td>\n",
       "        <td>At Dart Ave/Exit 21 - Accident.</td>\n",
       "        <td>None</td>\n",
       "        <td>I-77 N</td>\n",
       "        <td>R</td>\n",
       "        <td>Akron</td>\n",
       "        <td>Summit</td>\n",
       "        <td>OH</td>\n",
       "        <td>44311</td>\n",
       "        <td>US</td>\n",
       "        <td>US/Eastern</td>\n",
       "        <td>KAKR</td>\n",
       "        <td>2016-02-08 06:54:00</td>\n",
       "        <td>39.0</td>\n",
       "        <td>None</td>\n",
       "        <td>55.0</td>\n",
       "        <td>29.65</td>\n",
       "        <td>10.0</td>\n",
       "        <td>Calm</td>\n",
       "        <td>None</td>\n",
       "        <td>None</td>\n",
       "        <td>Overcast</td>\n",
       "        <td>0</td>\n",
       "        <td>0</td>\n",
       "        <td>0</td>\n",
       "        <td>0</td>\n",
       "        <td>0</td>\n",
       "        <td>0</td>\n",
       "        <td>0</td>\n",
       "        <td>0</td>\n",
       "        <td>0</td>\n",
       "        <td>0</td>\n",
       "        <td>0</td>\n",
       "        <td>0</td>\n",
       "        <td>0</td>\n",
       "        <td>Night</td>\n",
       "        <td>Night</td>\n",
       "        <td>Day</td>\n",
       "        <td>Day</td>\n",
       "        <td>2016-02-08</td>\n",
       "        <td>2</td>\n",
       "        <td>2016</td>\n",
       "        <td>6</td>\n",
       "        <td>8</td>\n",
       "    </tr>\n",
       "    <tr>\n",
       "        <td>4</td>\n",
       "        <td>A-5</td>\n",
       "        <td>3</td>\n",
       "        <td>2016-02-08 07:53:43</td>\n",
       "        <td>2016-02-08 13:53:43</td>\n",
       "        <td>39.172393</td>\n",
       "        <td>-84.49279200000002</td>\n",
       "        <td>39.170476</td>\n",
       "        <td>-84.501798</td>\n",
       "        <td>0.5</td>\n",
       "        <td>At Mitchell Ave/Exit 6 - Accident.</td>\n",
       "        <td>None</td>\n",
       "        <td>I-75 S</td>\n",
       "        <td>R</td>\n",
       "        <td>Cincinnati</td>\n",
       "        <td>Hamilton</td>\n",
       "        <td>OH</td>\n",
       "        <td>45217</td>\n",
       "        <td>US</td>\n",
       "        <td>US/Eastern</td>\n",
       "        <td>KLUK</td>\n",
       "        <td>2016-02-08 07:53:00</td>\n",
       "        <td>37.0</td>\n",
       "        <td>29.8</td>\n",
       "        <td>93.0</td>\n",
       "        <td>29.69</td>\n",
       "        <td>10.0</td>\n",
       "        <td>WSW</td>\n",
       "        <td>10.4</td>\n",
       "        <td>0.01</td>\n",
       "        <td>Light Rain</td>\n",
       "        <td>0</td>\n",
       "        <td>0</td>\n",
       "        <td>0</td>\n",
       "        <td>0</td>\n",
       "        <td>0</td>\n",
       "        <td>0</td>\n",
       "        <td>0</td>\n",
       "        <td>0</td>\n",
       "        <td>0</td>\n",
       "        <td>0</td>\n",
       "        <td>0</td>\n",
       "        <td>0</td>\n",
       "        <td>0</td>\n",
       "        <td>Day</td>\n",
       "        <td>Day</td>\n",
       "        <td>Day</td>\n",
       "        <td>Day</td>\n",
       "        <td>2016-02-08</td>\n",
       "        <td>2</td>\n",
       "        <td>2016</td>\n",
       "        <td>7</td>\n",
       "        <td>8</td>\n",
       "    </tr>\n",
       "</table>"
      ],
      "text/plain": [
       "[(0, 'A-1', 3, '2016-02-08 00:37:08', '2016-02-08 06:37:08', 40.10891, -83.09286, 40.11206, -83.03187, 3.23, 'Between Sawmill Rd/Exit 20 and OH-315/Olentangy Riv Rd/Exit 22 - Accident.', None, 'Outerbelt E', 'R', 'Dublin', 'Franklin', 'OH', '43017', 'US', 'US/Eastern', 'KOSU', '2016-02-08 00:53:00', 42.1, 36.1, 58.0, 29.76, 10.0, 'SW', 10.4, 0.0, 'Light Rain', 0, 0, 0, 0, 0, 0, 0, 0, 0, 0, 0, 0, 0, 'Night', 'Night', 'Night', 'Night', '2016-02-08', 2, 2016, 0, 8),\n",
       " (1, 'A-2', 2, '2016-02-08 05:56:20', '2016-02-08 11:56:20', 39.86542, -84.0628, 39.86501, -84.04873, 0.747, 'At OH-4/OH-235/Exit 41 - Accident.', None, 'I-70 E', 'R', 'Dayton', 'Montgomery', 'OH', '45424', 'US', 'US/Eastern', 'KFFO', '2016-02-08 05:58:00', 36.9, None, 91.0, 29.68, 10.0, 'Calm', None, 0.02, 'Light Rain', 0, 0, 0, 0, 0, 0, 0, 0, 0, 0, 0, 0, 0, 'Night', 'Night', 'Night', 'Night', '2016-02-08', 2, 2016, 5, 8),\n",
       " (2, 'A-3', 2, '2016-02-08 06:15:39', '2016-02-08 12:15:39', 39.10266, -84.52468, 39.10209, -84.52396, 0.055, 'At I-71/US-50/Exit 1 - Accident.', None, 'I-75 S', 'R', 'Cincinnati', 'Hamilton', 'OH', '45203', 'US', 'US/Eastern', 'KLUK', '2016-02-08 05:53:00', 36.0, None, 97.0, 29.7, 10.0, 'Calm', None, 0.02, 'Overcast', 0, 0, 0, 0, 1, 0, 0, 0, 0, 0, 0, 0, 0, 'Night', 'Night', 'Night', 'Day', '2016-02-08', 2, 2016, 6, 8),\n",
       " (3, 'A-4', 2, '2016-02-08 06:51:45', '2016-02-08 12:51:45', 41.06213, -81.53784, 41.06217, -81.53546999999998, 0.123, 'At Dart Ave/Exit 21 - Accident.', None, 'I-77 N', 'R', 'Akron', 'Summit', 'OH', '44311', 'US', 'US/Eastern', 'KAKR', '2016-02-08 06:54:00', 39.0, None, 55.0, 29.65, 10.0, 'Calm', None, None, 'Overcast', 0, 0, 0, 0, 0, 0, 0, 0, 0, 0, 0, 0, 0, 'Night', 'Night', 'Day', 'Day', '2016-02-08', 2, 2016, 6, 8),\n",
       " (4, 'A-5', 3, '2016-02-08 07:53:43', '2016-02-08 13:53:43', 39.172393, -84.49279200000002, 39.170476, -84.501798, 0.5, 'At Mitchell Ave/Exit 6 - Accident.', None, 'I-75 S', 'R', 'Cincinnati', 'Hamilton', 'OH', '45217', 'US', 'US/Eastern', 'KLUK', '2016-02-08 07:53:00', 37.0, 29.8, 93.0, 29.69, 10.0, 'WSW', 10.4, 0.01, 'Light Rain', 0, 0, 0, 0, 0, 0, 0, 0, 0, 0, 0, 0, 0, 'Day', 'Day', 'Day', 'Day', '2016-02-08', 2, 2016, 7, 8)]"
      ]
     },
     "execution_count": 63,
     "metadata": {},
     "output_type": "execute_result"
    }
   ],
   "source": [
    "%sql SELECT * FROM accident limit 5"
   ]
  },
  {
   "cell_type": "code",
   "execution_count": 14,
   "id": "2e291f35",
   "metadata": {},
   "outputs": [
    {
     "name": "stdout",
     "output_type": "stream",
     "text": [
      "   sqlite://\n",
      " * sqlite:///accident.db\n",
      "Done.\n"
     ]
    },
    {
     "data": {
      "text/plain": [
       "[]"
      ]
     },
     "execution_count": 14,
     "metadata": {},
     "output_type": "execute_result"
    }
   ],
   "source": [
    "%%sql\n",
    "alter table accident add Date date;"
   ]
  },
  {
   "cell_type": "code",
   "execution_count": 15,
   "id": "311a8f35",
   "metadata": {
    "scrolled": true
   },
   "outputs": [
    {
     "name": "stdout",
     "output_type": "stream",
     "text": [
      "   sqlite://\n",
      " * sqlite:///accident.db\n",
      "Done.\n"
     ]
    },
    {
     "data": {
      "text/plain": [
       "[]"
      ]
     },
     "execution_count": 15,
     "metadata": {},
     "output_type": "execute_result"
    }
   ],
   "source": [
    "%%sql\n",
    "alter table accident add Accident_month int;"
   ]
  },
  {
   "cell_type": "code",
   "execution_count": 16,
   "id": "72f8f932",
   "metadata": {},
   "outputs": [
    {
     "name": "stdout",
     "output_type": "stream",
     "text": [
      "   sqlite://\n",
      " * sqlite:///accident.db\n",
      "2845342 rows affected.\n"
     ]
    },
    {
     "data": {
      "text/plain": [
       "[]"
      ]
     },
     "execution_count": 16,
     "metadata": {},
     "output_type": "execute_result"
    }
   ],
   "source": [
    "%%sql\n",
    "UPDATE accident \n",
    "SET Accident_month = SUBSTRING(Start_Time, 6, 2) ;\n"
   ]
  },
  {
   "cell_type": "code",
   "execution_count": 18,
   "id": "84e06ba7",
   "metadata": {
    "scrolled": true
   },
   "outputs": [
    {
     "name": "stdout",
     "output_type": "stream",
     "text": [
      "   sqlite://\n",
      " * sqlite:///accident.db\n",
      "(sqlite3.OperationalError) duplicate column name: Accident_year\n",
      "[SQL: alter table accident add Accident_year int;]\n",
      "(Background on this error at: https://sqlalche.me/e/14/e3q8)\n"
     ]
    }
   ],
   "source": [
    "%%sql\n",
    "alter table accident add Accident_year int;"
   ]
  },
  {
   "cell_type": "code",
   "execution_count": 19,
   "id": "64789909",
   "metadata": {},
   "outputs": [
    {
     "name": "stdout",
     "output_type": "stream",
     "text": [
      "   sqlite://\n",
      " * sqlite:///accident.db\n",
      "2845342 rows affected.\n"
     ]
    },
    {
     "data": {
      "text/plain": [
       "[]"
      ]
     },
     "execution_count": 19,
     "metadata": {},
     "output_type": "execute_result"
    }
   ],
   "source": [
    "%%sql\n",
    "UPDATE accident \n",
    "SET Accident_year = SUBSTRING(Start_Time, 0, 5) ;\n"
   ]
  },
  {
   "cell_type": "code",
   "execution_count": 20,
   "id": "1a267cc3",
   "metadata": {
    "scrolled": true
   },
   "outputs": [
    {
     "name": "stdout",
     "output_type": "stream",
     "text": [
      "   sqlite://\n",
      " * sqlite:///accident.db\n",
      "2845342 rows affected.\n"
     ]
    },
    {
     "data": {
      "text/plain": [
       "[]"
      ]
     },
     "execution_count": 20,
     "metadata": {},
     "output_type": "execute_result"
    }
   ],
   "source": [
    "%%sql\n",
    "UPDATE accident \n",
    "SET Date = SUBSTRING(Start_Time, 1, 10) ;\n"
   ]
  },
  {
   "cell_type": "code",
   "execution_count": 21,
   "id": "07cfb6ec",
   "metadata": {
    "scrolled": false
   },
   "outputs": [
    {
     "name": "stdout",
     "output_type": "stream",
     "text": [
      "   sqlite://\n",
      " * sqlite:///accident.db\n",
      "Done.\n"
     ]
    },
    {
     "data": {
      "text/plain": [
       "[]"
      ]
     },
     "execution_count": 21,
     "metadata": {},
     "output_type": "execute_result"
    }
   ],
   "source": [
    "%%sql\n",
    "ALTER TABLE accident\n",
    "ADD Accident_Hour int;\n"
   ]
  },
  {
   "cell_type": "code",
   "execution_count": 22,
   "id": "3c429290",
   "metadata": {
    "scrolled": true
   },
   "outputs": [
    {
     "name": "stdout",
     "output_type": "stream",
     "text": [
      "   sqlite://\n",
      " * sqlite:///accident.db\n",
      "2845342 rows affected.\n"
     ]
    },
    {
     "data": {
      "text/plain": [
       "[]"
      ]
     },
     "execution_count": 22,
     "metadata": {},
     "output_type": "execute_result"
    }
   ],
   "source": [
    "%%sql\n",
    "UPDATE accident \n",
    "SET Accident_Hour =  SUBSTRING(Start_Time,11,3);"
   ]
  },
  {
   "cell_type": "code",
   "execution_count": 23,
   "id": "eb4b83ce",
   "metadata": {
    "scrolled": false
   },
   "outputs": [
    {
     "name": "stdout",
     "output_type": "stream",
     "text": [
      "   sqlite://\n",
      " * sqlite:///accident.db\n",
      "Done.\n"
     ]
    },
    {
     "data": {
      "text/plain": [
       "[]"
      ]
     },
     "execution_count": 23,
     "metadata": {},
     "output_type": "execute_result"
    }
   ],
   "source": [
    "%%sql\n",
    "ALTER TABLE accident\n",
    "ADD Accident_Day int;\n"
   ]
  },
  {
   "cell_type": "code",
   "execution_count": 62,
   "id": "c6acad5e",
   "metadata": {
    "scrolled": true
   },
   "outputs": [
    {
     "name": "stdout",
     "output_type": "stream",
     "text": [
      "   sqlite://\n",
      " * sqlite:///accident.db\n",
      "2845342 rows affected.\n"
     ]
    },
    {
     "data": {
      "text/plain": [
       "[]"
      ]
     },
     "execution_count": 62,
     "metadata": {},
     "output_type": "execute_result"
    }
   ],
   "source": [
    "%%sql\n",
    "UPDATE accident \n",
    "SET Accident_Day =  SUBSTRING(Date,9,2);"
   ]
  },
  {
   "cell_type": "code",
   "execution_count": 25,
   "id": "169719a6",
   "metadata": {},
   "outputs": [
    {
     "name": "stdout",
     "output_type": "stream",
     "text": [
      "   sqlite://\n",
      " * sqlite:///accident.db\n",
      "Done.\n"
     ]
    },
    {
     "data": {
      "text/html": [
       "<table>\n",
       "    <tr>\n",
       "        <th>Accident_month</th>\n",
       "        <th>Total</th>\n",
       "    </tr>\n",
       "    <tr>\n",
       "        <td>12</td>\n",
       "        <td>473943</td>\n",
       "    </tr>\n",
       "    <tr>\n",
       "        <td>11</td>\n",
       "        <td>360696</td>\n",
       "    </tr>\n",
       "    <tr>\n",
       "        <td>10</td>\n",
       "        <td>299131</td>\n",
       "    </tr>\n",
       "    <tr>\n",
       "        <td>9</td>\n",
       "        <td>241822</td>\n",
       "    </tr>\n",
       "    <tr>\n",
       "        <td>6</td>\n",
       "        <td>226561</td>\n",
       "    </tr>\n",
       "</table>"
      ],
      "text/plain": [
       "[(12, 473943), (11, 360696), (10, 299131), (9, 241822), (6, 226561)]"
      ]
     },
     "execution_count": 25,
     "metadata": {},
     "output_type": "execute_result"
    }
   ],
   "source": [
    "%%sql\n",
    "\n",
    "SELECT Accident_month, count(Accident_month) as Total\n",
    "FROM  accident \n",
    "Group by Accident_month\n",
    "ORDER BY Total DESC\n",
    "LIMIT 5"
   ]
  },
  {
   "cell_type": "code",
   "execution_count": 64,
   "id": "06dbf2a3",
   "metadata": {},
   "outputs": [
    {
     "name": "stdout",
     "output_type": "stream",
     "text": [
      "   sqlite://\n",
      " * sqlite:///accident.db\n",
      "Done.\n"
     ]
    },
    {
     "data": {
      "text/html": [
       "<table>\n",
       "    <tr>\n",
       "        <th>Accident_Day</th>\n",
       "        <th>Total</th>\n",
       "    </tr>\n",
       "    <tr>\n",
       "        <td>23</td>\n",
       "        <td>106831</td>\n",
       "    </tr>\n",
       "    <tr>\n",
       "        <td>22</td>\n",
       "        <td>103229</td>\n",
       "    </tr>\n",
       "    <tr>\n",
       "        <td>18</td>\n",
       "        <td>98804</td>\n",
       "    </tr>\n",
       "    <tr>\n",
       "        <td>30</td>\n",
       "        <td>98654</td>\n",
       "    </tr>\n",
       "    <tr>\n",
       "        <td>19</td>\n",
       "        <td>98386</td>\n",
       "    </tr>\n",
       "</table>"
      ],
      "text/plain": [
       "[(23, 106831), (22, 103229), (18, 98804), (30, 98654), (19, 98386)]"
      ]
     },
     "execution_count": 64,
     "metadata": {},
     "output_type": "execute_result"
    }
   ],
   "source": [
    "%%sql\n",
    "\n",
    "SELECT Accident_Day, count(Accident_Day) as Total\n",
    "FROM  accident \n",
    "Group by Accident_Day\n",
    "ORDER BY Total DESC\n",
    "LIMIT 5"
   ]
  },
  {
   "cell_type": "code",
   "execution_count": 27,
   "id": "710da845",
   "metadata": {},
   "outputs": [
    {
     "name": "stdout",
     "output_type": "stream",
     "text": [
      "   sqlite://\n",
      " * sqlite:///accident.db\n",
      "Done.\n"
     ]
    },
    {
     "data": {
      "text/html": [
       "<table>\n",
       "    <tr>\n",
       "        <th>Date</th>\n",
       "        <th>Total</th>\n",
       "    </tr>\n",
       "    <tr>\n",
       "        <td>2021-12-23</td>\n",
       "        <td>12904</td>\n",
       "    </tr>\n",
       "    <tr>\n",
       "        <td>2021-12-17</td>\n",
       "        <td>11505</td>\n",
       "    </tr>\n",
       "    <tr>\n",
       "        <td>2021-12-10</td>\n",
       "        <td>11014</td>\n",
       "    </tr>\n",
       "    <tr>\n",
       "        <td>2021-12-15</td>\n",
       "        <td>10603</td>\n",
       "    </tr>\n",
       "    <tr>\n",
       "        <td>2021-12-16</td>\n",
       "        <td>10362</td>\n",
       "    </tr>\n",
       "</table>"
      ],
      "text/plain": [
       "[('2021-12-23', 12904),\n",
       " ('2021-12-17', 11505),\n",
       " ('2021-12-10', 11014),\n",
       " ('2021-12-15', 10603),\n",
       " ('2021-12-16', 10362)]"
      ]
     },
     "execution_count": 27,
     "metadata": {},
     "output_type": "execute_result"
    }
   ],
   "source": [
    "%%sql\n",
    "\n",
    "SELECT Date, count(Date) as Total\n",
    "FROM  accident \n",
    "Group by Date\n",
    "ORDER BY Total DESC\n",
    "LIMIT 5"
   ]
  },
  {
   "cell_type": "code",
   "execution_count": 28,
   "id": "8514de63",
   "metadata": {},
   "outputs": [
    {
     "name": "stdout",
     "output_type": "stream",
     "text": [
      "   sqlite://\n",
      " * sqlite:///accident.db\n",
      "Done.\n"
     ]
    },
    {
     "data": {
      "text/html": [
       "<table>\n",
       "    <tr>\n",
       "        <th>Accident_year</th>\n",
       "        <th>Total</th>\n",
       "    </tr>\n",
       "    <tr>\n",
       "        <td>2021</td>\n",
       "        <td>1511745</td>\n",
       "    </tr>\n",
       "    <tr>\n",
       "        <td>2020</td>\n",
       "        <td>625864</td>\n",
       "    </tr>\n",
       "    <tr>\n",
       "        <td>2019</td>\n",
       "        <td>258615</td>\n",
       "    </tr>\n",
       "    <tr>\n",
       "        <td>2017</td>\n",
       "        <td>163918</td>\n",
       "    </tr>\n",
       "    <tr>\n",
       "        <td>2018</td>\n",
       "        <td>163176</td>\n",
       "    </tr>\n",
       "</table>"
      ],
      "text/plain": [
       "[(2021, 1511745),\n",
       " (2020, 625864),\n",
       " (2019, 258615),\n",
       " (2017, 163918),\n",
       " (2018, 163176)]"
      ]
     },
     "execution_count": 28,
     "metadata": {},
     "output_type": "execute_result"
    }
   ],
   "source": [
    "%%sql\n",
    "\n",
    "SELECT Accident_year, count(Accident_year) as Total\n",
    "FROM  accident \n",
    "Group by Accident_year\n",
    "ORDER BY Total DESC\n",
    "LIMIT 5"
   ]
  },
  {
   "cell_type": "code",
   "execution_count": 29,
   "id": "820dd6b1",
   "metadata": {},
   "outputs": [
    {
     "name": "stdout",
     "output_type": "stream",
     "text": [
      "   sqlite://\n",
      " * sqlite:///accident.db\n",
      "Done.\n"
     ]
    },
    {
     "data": {
      "text/html": [
       "<table>\n",
       "    <tr>\n",
       "        <th>Accident_Hour</th>\n",
       "        <th>Total</th>\n",
       "    </tr>\n",
       "    <tr>\n",
       "        <td>17</td>\n",
       "        <td>220358</td>\n",
       "    </tr>\n",
       "    <tr>\n",
       "        <td>16</td>\n",
       "        <td>218385</td>\n",
       "    </tr>\n",
       "    <tr>\n",
       "        <td>15</td>\n",
       "        <td>214264</td>\n",
       "    </tr>\n",
       "    <tr>\n",
       "        <td>14</td>\n",
       "        <td>191480</td>\n",
       "    </tr>\n",
       "    <tr>\n",
       "        <td>18</td>\n",
       "        <td>168982</td>\n",
       "    </tr>\n",
       "</table>"
      ],
      "text/plain": [
       "[(17, 220358), (16, 218385), (15, 214264), (14, 191480), (18, 168982)]"
      ]
     },
     "execution_count": 29,
     "metadata": {},
     "output_type": "execute_result"
    }
   ],
   "source": [
    "%%sql\n",
    "SELECT Accident_Hour, count(Accident_Hour) as Total\n",
    "FROM  accident \n",
    "Group by Accident_Hour\n",
    "ORDER BY Total DESC\n",
    "LIMIT 5"
   ]
  },
  {
   "cell_type": "code",
   "execution_count": 30,
   "id": "293c5c8b",
   "metadata": {
    "scrolled": true
   },
   "outputs": [
    {
     "name": "stdout",
     "output_type": "stream",
     "text": [
      "   sqlite://\n",
      " * sqlite:///accident.db\n",
      "Done.\n"
     ]
    },
    {
     "data": {
      "text/html": [
       "<table>\n",
       "    <tr>\n",
       "        <th>Accident_Hour</th>\n",
       "        <th>Total_Severity1</th>\n",
       "    </tr>\n",
       "    <tr>\n",
       "        <td>16</td>\n",
       "        <td>2673</td>\n",
       "    </tr>\n",
       "    <tr>\n",
       "        <td>17</td>\n",
       "        <td>2640</td>\n",
       "    </tr>\n",
       "    <tr>\n",
       "        <td>15</td>\n",
       "        <td>2197</td>\n",
       "    </tr>\n",
       "    <tr>\n",
       "        <td>18</td>\n",
       "        <td>2141</td>\n",
       "    </tr>\n",
       "    <tr>\n",
       "        <td>14</td>\n",
       "        <td>1769</td>\n",
       "    </tr>\n",
       "</table>"
      ],
      "text/plain": [
       "[(16, 2673), (17, 2640), (15, 2197), (18, 2141), (14, 1769)]"
      ]
     },
     "execution_count": 30,
     "metadata": {},
     "output_type": "execute_result"
    }
   ],
   "source": [
    "%%sql\n",
    "SELECT Accident_Hour, count(Accident_Hour) as Total_Severity1\n",
    "FROM  accident \n",
    "WHERE Severity = 1\n",
    "Group by Accident_Hour\n",
    "ORDER BY Total_Severity1 DESC\n",
    "LIMIT 5\n",
    "\n"
   ]
  },
  {
   "cell_type": "code",
   "execution_count": 31,
   "id": "4f18fddf",
   "metadata": {},
   "outputs": [
    {
     "name": "stdout",
     "output_type": "stream",
     "text": [
      "   sqlite://\n",
      " * sqlite:///accident.db\n",
      "Done.\n"
     ]
    },
    {
     "data": {
      "text/html": [
       "<table>\n",
       "    <tr>\n",
       "        <th>Accident_Hour</th>\n",
       "        <th>Total_Severity2</th>\n",
       "    </tr>\n",
       "    <tr>\n",
       "        <td>17</td>\n",
       "        <td>196443</td>\n",
       "    </tr>\n",
       "    <tr>\n",
       "        <td>16</td>\n",
       "        <td>194758</td>\n",
       "    </tr>\n",
       "    <tr>\n",
       "        <td>15</td>\n",
       "        <td>193223</td>\n",
       "    </tr>\n",
       "    <tr>\n",
       "        <td>14</td>\n",
       "        <td>174399</td>\n",
       "    </tr>\n",
       "    <tr>\n",
       "        <td>13</td>\n",
       "        <td>151194</td>\n",
       "    </tr>\n",
       "</table>"
      ],
      "text/plain": [
       "[(17, 196443), (16, 194758), (15, 193223), (14, 174399), (13, 151194)]"
      ]
     },
     "execution_count": 31,
     "metadata": {},
     "output_type": "execute_result"
    }
   ],
   "source": [
    "%%sql\n",
    "SELECT Accident_Hour, count(Accident_Hour) as Total_Severity2\n",
    "FROM  accident \n",
    "WHERE Severity = 2\n",
    "Group by Accident_Hour\n",
    "ORDER BY Total_Severity2 DESC\n",
    "LIMIT 5"
   ]
  },
  {
   "cell_type": "code",
   "execution_count": 32,
   "id": "018769f7",
   "metadata": {
    "scrolled": false
   },
   "outputs": [
    {
     "name": "stdout",
     "output_type": "stream",
     "text": [
      "   sqlite://\n",
      " * sqlite:///accident.db\n",
      "Done.\n"
     ]
    },
    {
     "data": {
      "text/html": [
       "<table>\n",
       "    <tr>\n",
       "        <th>Accident_Hour</th>\n",
       "        <th>Total_Severity3</th>\n",
       "    </tr>\n",
       "    <tr>\n",
       "        <td>17</td>\n",
       "        <td>13926</td>\n",
       "    </tr>\n",
       "    <tr>\n",
       "        <td>16</td>\n",
       "        <td>13622</td>\n",
       "    </tr>\n",
       "    <tr>\n",
       "        <td>15</td>\n",
       "        <td>11629</td>\n",
       "    </tr>\n",
       "    <tr>\n",
       "        <td>18</td>\n",
       "        <td>11566</td>\n",
       "    </tr>\n",
       "    <tr>\n",
       "        <td>14</td>\n",
       "        <td>8601</td>\n",
       "    </tr>\n",
       "</table>"
      ],
      "text/plain": [
       "[(17, 13926), (16, 13622), (15, 11629), (18, 11566), (14, 8601)]"
      ]
     },
     "execution_count": 32,
     "metadata": {},
     "output_type": "execute_result"
    }
   ],
   "source": [
    "\n",
    "%%sql\n",
    "SELECT Accident_Hour, count(Accident_Hour) as Total_Severity3\n",
    "FROM  accident \n",
    "WHERE Severity = 3\n",
    "Group by Accident_Hour\n",
    "ORDER BY Total_Severity3 DESC\n",
    "LIMIT 5"
   ]
  },
  {
   "cell_type": "code",
   "execution_count": 33,
   "id": "8e58a4b4",
   "metadata": {},
   "outputs": [
    {
     "name": "stdout",
     "output_type": "stream",
     "text": [
      "   sqlite://\n",
      " * sqlite:///accident.db\n",
      "Done.\n"
     ]
    },
    {
     "data": {
      "text/html": [
       "<table>\n",
       "    <tr>\n",
       "        <th>Accident_Hour</th>\n",
       "        <th>Total_Severity4</th>\n",
       "    </tr>\n",
       "    <tr>\n",
       "        <td>17</td>\n",
       "        <td>7349</td>\n",
       "    </tr>\n",
       "    <tr>\n",
       "        <td>16</td>\n",
       "        <td>7332</td>\n",
       "    </tr>\n",
       "    <tr>\n",
       "        <td>15</td>\n",
       "        <td>7215</td>\n",
       "    </tr>\n",
       "    <tr>\n",
       "        <td>18</td>\n",
       "        <td>6926</td>\n",
       "    </tr>\n",
       "    <tr>\n",
       "        <td>14</td>\n",
       "        <td>6711</td>\n",
       "    </tr>\n",
       "</table>"
      ],
      "text/plain": [
       "[(17, 7349), (16, 7332), (15, 7215), (18, 6926), (14, 6711)]"
      ]
     },
     "execution_count": 33,
     "metadata": {},
     "output_type": "execute_result"
    }
   ],
   "source": [
    "%%sql\n",
    "SELECT Accident_Hour, count(Accident_Hour) as Total_Severity4\n",
    "FROM  accident \n",
    "WHERE Severity = 4\n",
    "Group by Accident_Hour\n",
    "ORDER BY Total_Severity4 DESC\n",
    "LIMIT 5"
   ]
  },
  {
   "cell_type": "code",
   "execution_count": 34,
   "id": "bc760f3c",
   "metadata": {},
   "outputs": [
    {
     "name": "stdout",
     "output_type": "stream",
     "text": [
      "   sqlite://\n",
      " * sqlite:///accident.db\n",
      "Done.\n"
     ]
    },
    {
     "data": {
      "text/html": [
       "<table>\n",
       "    <tr>\n",
       "        <th>Weather_Condition</th>\n",
       "        <th>Total</th>\n",
       "    </tr>\n",
       "    <tr>\n",
       "        <td>Fair</td>\n",
       "        <td>1107194</td>\n",
       "    </tr>\n",
       "    <tr>\n",
       "        <td>Mostly Cloudy</td>\n",
       "        <td>363959</td>\n",
       "    </tr>\n",
       "    <tr>\n",
       "        <td>Cloudy</td>\n",
       "        <td>348767</td>\n",
       "    </tr>\n",
       "    <tr>\n",
       "        <td>Partly Cloudy</td>\n",
       "        <td>249939</td>\n",
       "    </tr>\n",
       "    <tr>\n",
       "        <td>Clear</td>\n",
       "        <td>173823</td>\n",
       "    </tr>\n",
       "</table>"
      ],
      "text/plain": [
       "[('Fair', 1107194),\n",
       " ('Mostly Cloudy', 363959),\n",
       " ('Cloudy', 348767),\n",
       " ('Partly Cloudy', 249939),\n",
       " ('Clear', 173823)]"
      ]
     },
     "execution_count": 34,
     "metadata": {},
     "output_type": "execute_result"
    }
   ],
   "source": [
    "%%sql\n",
    "SELECT Weather_Condition, count(Weather_Condition) as Total\n",
    "FROM  accident \n",
    "Group by Weather_Condition\n",
    "ORDER BY Total DESC\n",
    "LIMIT 5"
   ]
  },
  {
   "cell_type": "code",
   "execution_count": 35,
   "id": "b70d7d87",
   "metadata": {},
   "outputs": [
    {
     "name": "stdout",
     "output_type": "stream",
     "text": [
      "   sqlite://\n",
      " * sqlite:///accident.db\n",
      "Done.\n"
     ]
    },
    {
     "data": {
      "text/plain": [
       "[]"
      ]
     },
     "execution_count": 35,
     "metadata": {},
     "output_type": "execute_result"
    }
   ],
   "source": [
    "%%sql\n",
    "\n",
    "ALTER TABLE accident\n",
    "RENAME COLUMN \"Visibility(mi)\" TO Visibility;"
   ]
  },
  {
   "cell_type": "code",
   "execution_count": 36,
   "id": "93bd4d47",
   "metadata": {},
   "outputs": [
    {
     "name": "stdout",
     "output_type": "stream",
     "text": [
      "   sqlite://\n",
      " * sqlite:///accident.db\n",
      "Done.\n"
     ]
    },
    {
     "data": {
      "text/html": [
       "<table>\n",
       "    <tr>\n",
       "        <th>Visibility</th>\n",
       "        <th>Total</th>\n",
       "    </tr>\n",
       "    <tr>\n",
       "        <td>10.0</td>\n",
       "        <td>2230276</td>\n",
       "    </tr>\n",
       "    <tr>\n",
       "        <td>7.0</td>\n",
       "        <td>79649</td>\n",
       "    </tr>\n",
       "    <tr>\n",
       "        <td>9.0</td>\n",
       "        <td>68817</td>\n",
       "    </tr>\n",
       "    <tr>\n",
       "        <td>8.0</td>\n",
       "        <td>55955</td>\n",
       "    </tr>\n",
       "    <tr>\n",
       "        <td>5.0</td>\n",
       "        <td>53933</td>\n",
       "    </tr>\n",
       "</table>"
      ],
      "text/plain": [
       "[(10.0, 2230276), (7.0, 79649), (9.0, 68817), (8.0, 55955), (5.0, 53933)]"
      ]
     },
     "execution_count": 36,
     "metadata": {},
     "output_type": "execute_result"
    }
   ],
   "source": [
    "%%sql\n",
    "\n",
    "SELECT Visibility, count(Visibility) as Total\n",
    "FROM  accident \n",
    "Group by Visibility\n",
    "ORDER BY Total DESC\n",
    "LIMIT 5\n"
   ]
  },
  {
   "cell_type": "code",
   "execution_count": 37,
   "id": "13337c78",
   "metadata": {},
   "outputs": [
    {
     "name": "stdout",
     "output_type": "stream",
     "text": [
      "   sqlite://\n",
      " * sqlite:///accident.db\n",
      "Done.\n"
     ]
    },
    {
     "data": {
      "text/html": [
       "<table>\n",
       "    <tr>\n",
       "        <th>County</th>\n",
       "        <th>Total</th>\n",
       "    </tr>\n",
       "    <tr>\n",
       "        <td>Los Angeles</td>\n",
       "        <td>234122</td>\n",
       "    </tr>\n",
       "    <tr>\n",
       "        <td>Miami-Dade</td>\n",
       "        <td>143939</td>\n",
       "    </tr>\n",
       "    <tr>\n",
       "        <td>Orange</td>\n",
       "        <td>114917</td>\n",
       "    </tr>\n",
       "    <tr>\n",
       "        <td>San Bernardino</td>\n",
       "        <td>55018</td>\n",
       "    </tr>\n",
       "    <tr>\n",
       "        <td>Dallas</td>\n",
       "        <td>50050</td>\n",
       "    </tr>\n",
       "</table>"
      ],
      "text/plain": [
       "[('Los Angeles', 234122),\n",
       " ('Miami-Dade', 143939),\n",
       " ('Orange', 114917),\n",
       " ('San Bernardino', 55018),\n",
       " ('Dallas', 50050)]"
      ]
     },
     "execution_count": 37,
     "metadata": {},
     "output_type": "execute_result"
    }
   ],
   "source": [
    "%%sql\n",
    "\n",
    "SELECT County, count(County) as Total\n",
    "FROM  accident \n",
    "Group by County\n",
    "ORDER BY Total DESC\n",
    "LIMIT 5\n"
   ]
  },
  {
   "cell_type": "code",
   "execution_count": 38,
   "id": "32dad44b",
   "metadata": {},
   "outputs": [
    {
     "name": "stdout",
     "output_type": "stream",
     "text": [
      "   sqlite://\n",
      " * sqlite:///accident.db\n",
      "Done.\n"
     ]
    },
    {
     "data": {
      "text/html": [
       "<table>\n",
       "    <tr>\n",
       "        <th>Bump</th>\n",
       "        <th>Total</th>\n",
       "    </tr>\n",
       "    <tr>\n",
       "        <td>0</td>\n",
       "        <td>2844321</td>\n",
       "    </tr>\n",
       "    <tr>\n",
       "        <td>1</td>\n",
       "        <td>1021</td>\n",
       "    </tr>\n",
       "</table>"
      ],
      "text/plain": [
       "[(0, 2844321), (1, 1021)]"
      ]
     },
     "execution_count": 38,
     "metadata": {},
     "output_type": "execute_result"
    }
   ],
   "source": [
    "%%sql\n",
    "\n",
    "SELECT Bump, count(Bump) as Total\n",
    "FROM  accident \n",
    "Group by Bump\n",
    "ORDER BY Total DESC\n",
    "\n"
   ]
  },
  {
   "cell_type": "code",
   "execution_count": 39,
   "id": "6fc9897c",
   "metadata": {},
   "outputs": [
    {
     "name": "stdout",
     "output_type": "stream",
     "text": [
      "   sqlite://\n",
      " * sqlite:///accident.db\n",
      "Done.\n"
     ]
    },
    {
     "data": {
      "text/html": [
       "<table>\n",
       "    <tr>\n",
       "        <th>Amenity</th>\n",
       "        <th>Total</th>\n",
       "    </tr>\n",
       "    <tr>\n",
       "        <td>0</td>\n",
       "        <td>2817352</td>\n",
       "    </tr>\n",
       "    <tr>\n",
       "        <td>1</td>\n",
       "        <td>27990</td>\n",
       "    </tr>\n",
       "</table>"
      ],
      "text/plain": [
       "[(0, 2817352), (1, 27990)]"
      ]
     },
     "execution_count": 39,
     "metadata": {},
     "output_type": "execute_result"
    }
   ],
   "source": [
    "%%sql\n",
    "\n",
    "SELECT Amenity, count(Amenity) as Total\n",
    "FROM  accident \n",
    "Group by Amenity\n",
    "ORDER BY Total DESC\n"
   ]
  },
  {
   "cell_type": "code",
   "execution_count": 40,
   "id": "4cf9e03d",
   "metadata": {},
   "outputs": [
    {
     "name": "stdout",
     "output_type": "stream",
     "text": [
      "   sqlite://\n",
      " * sqlite:///accident.db\n",
      "Done.\n"
     ]
    },
    {
     "data": {
      "text/html": [
       "<table>\n",
       "    <tr>\n",
       "        <th>Crossing</th>\n",
       "        <th>Total</th>\n",
       "    </tr>\n",
       "    <tr>\n",
       "        <td>0</td>\n",
       "        <td>2645130</td>\n",
       "    </tr>\n",
       "    <tr>\n",
       "        <td>1</td>\n",
       "        <td>200212</td>\n",
       "    </tr>\n",
       "</table>"
      ],
      "text/plain": [
       "[(0, 2645130), (1, 200212)]"
      ]
     },
     "execution_count": 40,
     "metadata": {},
     "output_type": "execute_result"
    }
   ],
   "source": [
    "%%sql\n",
    "\n",
    "SELECT Crossing, count(Crossing) as Total\n",
    "FROM  accident \n",
    "Group by Crossing\n",
    "ORDER BY Total DESC\n"
   ]
  },
  {
   "cell_type": "code",
   "execution_count": 41,
   "id": "165d7b59",
   "metadata": {},
   "outputs": [
    {
     "name": "stdout",
     "output_type": "stream",
     "text": [
      "The percentage accident occurs during when there is crossing is 7.03648278484625%\n"
     ]
    }
   ],
   "source": [
    "percentage = ((200212)/2845342)*100\n",
    "print('The percentage accident occurs during when there is crossing is ' + str(percentage) + '%'  )"
   ]
  },
  {
   "cell_type": "code",
   "execution_count": 42,
   "id": "e2071746",
   "metadata": {},
   "outputs": [
    {
     "name": "stdout",
     "output_type": "stream",
     "text": [
      "   sqlite://\n",
      " * sqlite:///accident.db\n",
      "Done.\n"
     ]
    },
    {
     "data": {
      "text/html": [
       "<table>\n",
       "    <tr>\n",
       "        <th>Give_Way</th>\n",
       "        <th>Total</th>\n",
       "    </tr>\n",
       "    <tr>\n",
       "        <td>0</td>\n",
       "        <td>2838474</td>\n",
       "    </tr>\n",
       "    <tr>\n",
       "        <td>1</td>\n",
       "        <td>6868</td>\n",
       "    </tr>\n",
       "</table>"
      ],
      "text/plain": [
       "[(0, 2838474), (1, 6868)]"
      ]
     },
     "execution_count": 42,
     "metadata": {},
     "output_type": "execute_result"
    }
   ],
   "source": [
    "%%sql\n",
    "\n",
    "SELECT Give_Way, count(Give_Way) as Total\n",
    "FROM  accident \n",
    "Group by Give_Way\n",
    "ORDER BY Total DESC\n"
   ]
  },
  {
   "cell_type": "code",
   "execution_count": 43,
   "id": "10c1f87d",
   "metadata": {},
   "outputs": [
    {
     "name": "stdout",
     "output_type": "stream",
     "text": [
      "   sqlite://\n",
      " * sqlite:///accident.db\n",
      "Done.\n"
     ]
    },
    {
     "data": {
      "text/html": [
       "<table>\n",
       "    <tr>\n",
       "        <th>Junction</th>\n",
       "        <th>Total</th>\n",
       "    </tr>\n",
       "    <tr>\n",
       "        <td>0</td>\n",
       "        <td>2554837</td>\n",
       "    </tr>\n",
       "    <tr>\n",
       "        <td>1</td>\n",
       "        <td>290505</td>\n",
       "    </tr>\n",
       "</table>"
      ],
      "text/plain": [
       "[(0, 2554837), (1, 290505)]"
      ]
     },
     "execution_count": 43,
     "metadata": {},
     "output_type": "execute_result"
    }
   ],
   "source": [
    "%%sql\n",
    "\n",
    "SELECT Junction, count(Junction) as Total\n",
    "FROM  accident \n",
    "Group by Junction\n",
    "ORDER BY Total DESC\n"
   ]
  },
  {
   "cell_type": "code",
   "execution_count": 44,
   "id": "08858d59",
   "metadata": {},
   "outputs": [
    {
     "name": "stdout",
     "output_type": "stream",
     "text": [
      "The percentage accident occurs during when there is junction is 10.209844721653846%\n"
     ]
    }
   ],
   "source": [
    "percentage = ((290505)/2845342)*100\n",
    "print('The percentage accident occurs during when there is junction is ' + str(percentage) + '%'  )"
   ]
  },
  {
   "cell_type": "code",
   "execution_count": 45,
   "id": "86570a17",
   "metadata": {},
   "outputs": [
    {
     "name": "stdout",
     "output_type": "stream",
     "text": [
      "   sqlite://\n",
      " * sqlite:///accident.db\n",
      "Done.\n"
     ]
    },
    {
     "data": {
      "text/html": [
       "<table>\n",
       "    <tr>\n",
       "        <th>No_Exit</th>\n",
       "        <th>Total</th>\n",
       "    </tr>\n",
       "    <tr>\n",
       "        <td>0</td>\n",
       "        <td>2841048</td>\n",
       "    </tr>\n",
       "    <tr>\n",
       "        <td>1</td>\n",
       "        <td>4294</td>\n",
       "    </tr>\n",
       "</table>"
      ],
      "text/plain": [
       "[(0, 2841048), (1, 4294)]"
      ]
     },
     "execution_count": 45,
     "metadata": {},
     "output_type": "execute_result"
    }
   ],
   "source": [
    "%%sql\n",
    "\n",
    "SELECT No_Exit, count(No_Exit) as Total\n",
    "FROM  accident \n",
    "Group by No_Exit\n",
    "ORDER BY Total DESC\n"
   ]
  },
  {
   "cell_type": "code",
   "execution_count": 46,
   "id": "03f6c3e7",
   "metadata": {},
   "outputs": [
    {
     "name": "stdout",
     "output_type": "stream",
     "text": [
      "   sqlite://\n",
      " * sqlite:///accident.db\n",
      "Done.\n"
     ]
    },
    {
     "data": {
      "text/html": [
       "<table>\n",
       "    <tr>\n",
       "        <th>Railway</th>\n",
       "        <th>Total</th>\n",
       "    </tr>\n",
       "    <tr>\n",
       "        <td>0</td>\n",
       "        <td>2822711</td>\n",
       "    </tr>\n",
       "    <tr>\n",
       "        <td>1</td>\n",
       "        <td>22631</td>\n",
       "    </tr>\n",
       "</table>"
      ],
      "text/plain": [
       "[(0, 2822711), (1, 22631)]"
      ]
     },
     "execution_count": 46,
     "metadata": {},
     "output_type": "execute_result"
    }
   ],
   "source": [
    "%%sql\n",
    "\n",
    "SELECT Railway, count(Railway) as Total\n",
    "FROM  accident \n",
    "Group by Railway\n",
    "ORDER BY Total DESC\n"
   ]
  },
  {
   "cell_type": "code",
   "execution_count": 47,
   "id": "fa9c9421",
   "metadata": {},
   "outputs": [
    {
     "name": "stdout",
     "output_type": "stream",
     "text": [
      "   sqlite://\n",
      " * sqlite:///accident.db\n",
      "Done.\n"
     ]
    },
    {
     "data": {
      "text/html": [
       "<table>\n",
       "    <tr>\n",
       "        <th>Roundabout</th>\n",
       "        <th>Total</th>\n",
       "    </tr>\n",
       "    <tr>\n",
       "        <td>0</td>\n",
       "        <td>2845219</td>\n",
       "    </tr>\n",
       "    <tr>\n",
       "        <td>1</td>\n",
       "        <td>123</td>\n",
       "    </tr>\n",
       "</table>"
      ],
      "text/plain": [
       "[(0, 2845219), (1, 123)]"
      ]
     },
     "execution_count": 47,
     "metadata": {},
     "output_type": "execute_result"
    }
   ],
   "source": [
    "%%sql\n",
    "\n",
    "SELECT Roundabout, count(Roundabout) as Total\n",
    "FROM  accident \n",
    "Group by Roundabout\n",
    "ORDER BY Total DESC\n"
   ]
  },
  {
   "cell_type": "code",
   "execution_count": 48,
   "id": "4a9238c8",
   "metadata": {},
   "outputs": [
    {
     "name": "stdout",
     "output_type": "stream",
     "text": [
      "   sqlite://\n",
      " * sqlite:///accident.db\n",
      "Done.\n"
     ]
    },
    {
     "data": {
      "text/html": [
       "<table>\n",
       "    <tr>\n",
       "        <th>Station</th>\n",
       "        <th>Total</th>\n",
       "    </tr>\n",
       "    <tr>\n",
       "        <td>0</td>\n",
       "        <td>2777347</td>\n",
       "    </tr>\n",
       "    <tr>\n",
       "        <td>1</td>\n",
       "        <td>67995</td>\n",
       "    </tr>\n",
       "</table>"
      ],
      "text/plain": [
       "[(0, 2777347), (1, 67995)]"
      ]
     },
     "execution_count": 48,
     "metadata": {},
     "output_type": "execute_result"
    }
   ],
   "source": [
    "%%sql\n",
    "\n",
    "SELECT Station, count(Station) as Total\n",
    "FROM  accident \n",
    "Group by Station\n",
    "ORDER BY Total DESC\n"
   ]
  },
  {
   "cell_type": "code",
   "execution_count": 49,
   "id": "e3a0f393",
   "metadata": {},
   "outputs": [
    {
     "name": "stdout",
     "output_type": "stream",
     "text": [
      "The percentage accident occurs during when there is station is 2.3896951579107184%\n"
     ]
    }
   ],
   "source": [
    "percentage = ((67995)/2845342)*100\n",
    "print('The percentage accident occurs during when there is station is ' + str(percentage) + '%'  )"
   ]
  },
  {
   "cell_type": "code",
   "execution_count": 50,
   "id": "3269ee5d",
   "metadata": {},
   "outputs": [
    {
     "name": "stdout",
     "output_type": "stream",
     "text": [
      "   sqlite://\n",
      " * sqlite:///accident.db\n",
      "Done.\n"
     ]
    },
    {
     "data": {
      "text/html": [
       "<table>\n",
       "    <tr>\n",
       "        <th>Stop</th>\n",
       "        <th>Total</th>\n",
       "    </tr>\n",
       "    <tr>\n",
       "        <td>0</td>\n",
       "        <td>2794942</td>\n",
       "    </tr>\n",
       "    <tr>\n",
       "        <td>1</td>\n",
       "        <td>50400</td>\n",
       "    </tr>\n",
       "</table>"
      ],
      "text/plain": [
       "[(0, 2794942), (1, 50400)]"
      ]
     },
     "execution_count": 50,
     "metadata": {},
     "output_type": "execute_result"
    }
   ],
   "source": [
    "%%sql\n",
    "\n",
    "SELECT Stop, count(Stop) as Total\n",
    "FROM  accident \n",
    "Group by Stop\n",
    "ORDER BY Total DESC\n"
   ]
  },
  {
   "cell_type": "code",
   "execution_count": 51,
   "id": "3fc9af91",
   "metadata": {},
   "outputs": [
    {
     "name": "stdout",
     "output_type": "stream",
     "text": [
      "   sqlite://\n",
      " * sqlite:///accident.db\n",
      "Done.\n"
     ]
    },
    {
     "data": {
      "text/html": [
       "<table>\n",
       "    <tr>\n",
       "        <th>Traffic_Calming</th>\n",
       "        <th>Total</th>\n",
       "    </tr>\n",
       "    <tr>\n",
       "        <td>0</td>\n",
       "        <td>2843630</td>\n",
       "    </tr>\n",
       "    <tr>\n",
       "        <td>1</td>\n",
       "        <td>1712</td>\n",
       "    </tr>\n",
       "</table>"
      ],
      "text/plain": [
       "[(0, 2843630), (1, 1712)]"
      ]
     },
     "execution_count": 51,
     "metadata": {},
     "output_type": "execute_result"
    }
   ],
   "source": [
    "%%sql\n",
    "\n",
    "SELECT Traffic_Calming, count(Traffic_Calming) as Total\n",
    "FROM  accident \n",
    "Group by Traffic_Calming\n",
    "ORDER BY Total DESC\n"
   ]
  },
  {
   "cell_type": "code",
   "execution_count": 52,
   "id": "d52eba18",
   "metadata": {},
   "outputs": [
    {
     "name": "stdout",
     "output_type": "stream",
     "text": [
      "   sqlite://\n",
      " * sqlite:///accident.db\n",
      "Done.\n"
     ]
    },
    {
     "data": {
      "text/html": [
       "<table>\n",
       "    <tr>\n",
       "        <th>Traffic_Signal</th>\n",
       "        <th>Total</th>\n",
       "    </tr>\n",
       "    <tr>\n",
       "        <td>0</td>\n",
       "        <td>2580079</td>\n",
       "    </tr>\n",
       "    <tr>\n",
       "        <td>1</td>\n",
       "        <td>265263</td>\n",
       "    </tr>\n",
       "</table>"
      ],
      "text/plain": [
       "[(0, 2580079), (1, 265263)]"
      ]
     },
     "execution_count": 52,
     "metadata": {},
     "output_type": "execute_result"
    }
   ],
   "source": [
    "%%sql\n",
    "\n",
    "SELECT Traffic_Signal, count(Traffic_Signal) as Total\n",
    "FROM  accident \n",
    "Group by Traffic_Signal\n",
    "ORDER BY Total DESC\n"
   ]
  },
  {
   "cell_type": "code",
   "execution_count": 53,
   "id": "65496992",
   "metadata": {},
   "outputs": [
    {
     "name": "stdout",
     "output_type": "stream",
     "text": [
      "The percentage accident occurs during when there is traffic signal is 9.322710591556305%\n"
     ]
    }
   ],
   "source": [
    "percentage = ((265263)/2845342)*100\n",
    "print('The percentage accident occurs during when there is traffic signal is ' + str(percentage) + '%'  )"
   ]
  },
  {
   "cell_type": "code",
   "execution_count": 54,
   "id": "eb35fd12",
   "metadata": {},
   "outputs": [
    {
     "name": "stdout",
     "output_type": "stream",
     "text": [
      "   sqlite://\n",
      " * sqlite:///accident.db\n",
      "Done.\n"
     ]
    },
    {
     "data": {
      "text/html": [
       "<table>\n",
       "    <tr>\n",
       "        <th>Turning_Loop</th>\n",
       "        <th>Total</th>\n",
       "    </tr>\n",
       "    <tr>\n",
       "        <td>0</td>\n",
       "        <td>2845342</td>\n",
       "    </tr>\n",
       "</table>"
      ],
      "text/plain": [
       "[(0, 2845342)]"
      ]
     },
     "execution_count": 54,
     "metadata": {},
     "output_type": "execute_result"
    }
   ],
   "source": [
    "%%sql\n",
    "\n",
    "SELECT Turning_Loop, count(Turning_Loop) as Total\n",
    "FROM  accident \n",
    "Group by Turning_Loop\n",
    "ORDER BY Total DESC\n"
   ]
  },
  {
   "cell_type": "code",
   "execution_count": 55,
   "id": "7366d2ce",
   "metadata": {},
   "outputs": [
    {
     "name": "stdout",
     "output_type": "stream",
     "text": [
      "   sqlite://\n",
      " * sqlite:///accident.db\n",
      "Done.\n"
     ]
    },
    {
     "data": {
      "text/html": [
       "<table>\n",
       "    <tr>\n",
       "        <th>index</th>\n",
       "        <th>Date</th>\n",
       "        <th>Holiday</th>\n",
       "        <th>WeekDay</th>\n",
       "        <th>Month</th>\n",
       "        <th>Day</th>\n",
       "        <th>Year</th>\n",
       "    </tr>\n",
       "    <tr>\n",
       "        <td>0</td>\n",
       "        <td>2004-07-04</td>\n",
       "        <td>4th of July</td>\n",
       "        <td>Sunday</td>\n",
       "        <td>7</td>\n",
       "        <td>4</td>\n",
       "        <td>2004</td>\n",
       "    </tr>\n",
       "    <tr>\n",
       "        <td>1</td>\n",
       "        <td>2005-07-04</td>\n",
       "        <td>4th of July</td>\n",
       "        <td>Monday</td>\n",
       "        <td>7</td>\n",
       "        <td>4</td>\n",
       "        <td>2005</td>\n",
       "    </tr>\n",
       "    <tr>\n",
       "        <td>2</td>\n",
       "        <td>2006-07-04</td>\n",
       "        <td>4th of July</td>\n",
       "        <td>Tuesday</td>\n",
       "        <td>7</td>\n",
       "        <td>4</td>\n",
       "        <td>2006</td>\n",
       "    </tr>\n",
       "    <tr>\n",
       "        <td>3</td>\n",
       "        <td>2007-07-04</td>\n",
       "        <td>4th of July</td>\n",
       "        <td>Wednesday</td>\n",
       "        <td>7</td>\n",
       "        <td>4</td>\n",
       "        <td>2007</td>\n",
       "    </tr>\n",
       "    <tr>\n",
       "        <td>4</td>\n",
       "        <td>2008-07-04</td>\n",
       "        <td>4th of July</td>\n",
       "        <td>Friday</td>\n",
       "        <td>7</td>\n",
       "        <td>4</td>\n",
       "        <td>2008</td>\n",
       "    </tr>\n",
       "    <tr>\n",
       "        <td>5</td>\n",
       "        <td>2009-07-04</td>\n",
       "        <td>4th of July</td>\n",
       "        <td>Saturday</td>\n",
       "        <td>7</td>\n",
       "        <td>4</td>\n",
       "        <td>2009</td>\n",
       "    </tr>\n",
       "    <tr>\n",
       "        <td>6</td>\n",
       "        <td>2010-07-04</td>\n",
       "        <td>4th of July</td>\n",
       "        <td>Sunday</td>\n",
       "        <td>7</td>\n",
       "        <td>4</td>\n",
       "        <td>2010</td>\n",
       "    </tr>\n",
       "    <tr>\n",
       "        <td>7</td>\n",
       "        <td>2011-07-04</td>\n",
       "        <td>4th of July</td>\n",
       "        <td>Monday</td>\n",
       "        <td>7</td>\n",
       "        <td>4</td>\n",
       "        <td>2011</td>\n",
       "    </tr>\n",
       "    <tr>\n",
       "        <td>8</td>\n",
       "        <td>2012-07-04</td>\n",
       "        <td>4th of July</td>\n",
       "        <td>Wednesday</td>\n",
       "        <td>7</td>\n",
       "        <td>4</td>\n",
       "        <td>2012</td>\n",
       "    </tr>\n",
       "    <tr>\n",
       "        <td>9</td>\n",
       "        <td>2013-07-04</td>\n",
       "        <td>4th of July</td>\n",
       "        <td>Thursday</td>\n",
       "        <td>7</td>\n",
       "        <td>4</td>\n",
       "        <td>2013</td>\n",
       "    </tr>\n",
       "</table>"
      ],
      "text/plain": [
       "[(0, '2004-07-04', '4th of July', 'Sunday', 7, 4, 2004),\n",
       " (1, '2005-07-04', '4th of July', 'Monday', 7, 4, 2005),\n",
       " (2, '2006-07-04', '4th of July', 'Tuesday', 7, 4, 2006),\n",
       " (3, '2007-07-04', '4th of July', 'Wednesday', 7, 4, 2007),\n",
       " (4, '2008-07-04', '4th of July', 'Friday', 7, 4, 2008),\n",
       " (5, '2009-07-04', '4th of July', 'Saturday', 7, 4, 2009),\n",
       " (6, '2010-07-04', '4th of July', 'Sunday', 7, 4, 2010),\n",
       " (7, '2011-07-04', '4th of July', 'Monday', 7, 4, 2011),\n",
       " (8, '2012-07-04', '4th of July', 'Wednesday', 7, 4, 2012),\n",
       " (9, '2013-07-04', '4th of July', 'Thursday', 7, 4, 2013)]"
      ]
     },
     "execution_count": 55,
     "metadata": {},
     "output_type": "execute_result"
    }
   ],
   "source": [
    "%sql SELECT * FROM holiday limit 10"
   ]
  },
  {
   "cell_type": "markdown",
   "id": "86620aad",
   "metadata": {},
   "source": [
    "Which holiday has highest accident count\n"
   ]
  },
  {
   "cell_type": "code",
   "execution_count": 56,
   "id": "309918d1",
   "metadata": {
    "scrolled": false
   },
   "outputs": [
    {
     "name": "stdout",
     "output_type": "stream",
     "text": [
      "   sqlite://\n",
      " * sqlite:///accident.db\n",
      "Done.\n"
     ]
    },
    {
     "data": {
      "text/html": [
       "<table>\n",
       "    <tr>\n",
       "        <th>Holiday</th>\n",
       "        <th>TotalCount</th>\n",
       "    </tr>\n",
       "    <tr>\n",
       "        <td>Christmas Eve</td>\n",
       "        <td>14516</td>\n",
       "    </tr>\n",
       "    <tr>\n",
       "        <td>Thanksgiving Eve</td>\n",
       "        <td>14249</td>\n",
       "    </tr>\n",
       "    <tr>\n",
       "        <td>New Year’s Eve</td>\n",
       "        <td>13711</td>\n",
       "    </tr>\n",
       "    <tr>\n",
       "        <td>Veterans Day</td>\n",
       "        <td>13233</td>\n",
       "    </tr>\n",
       "    <tr>\n",
       "        <td>Labor Day Weekend</td>\n",
       "        <td>9343</td>\n",
       "    </tr>\n",
       "</table>"
      ],
      "text/plain": [
       "[('Christmas Eve', 14516),\n",
       " ('Thanksgiving Eve', 14249),\n",
       " ('New Year’s Eve', 13711),\n",
       " ('Veterans Day', 13233),\n",
       " ('Labor Day Weekend', 9343)]"
      ]
     },
     "execution_count": 56,
     "metadata": {},
     "output_type": "execute_result"
    }
   ],
   "source": [
    "%%sql\n",
    "SELECT Holiday, COUNT(Holiday) as TotalCount\n",
    "FROM  accident as a\n",
    "LEFT JOIN holiday as b\n",
    "ON  a.Date = b.Date\n",
    "GROUP BY Holiday  \n",
    "ORDER BY TotalCount DESC\n",
    "LIMIT 5"
   ]
  },
  {
   "cell_type": "markdown",
   "id": "39dddfd4",
   "metadata": {},
   "source": [
    "How many % of accident are during holiday"
   ]
  },
  {
   "cell_type": "code",
   "execution_count": 58,
   "id": "fefb3975",
   "metadata": {},
   "outputs": [
    {
     "name": "stdout",
     "output_type": "stream",
     "text": [
      "   sqlite://\n",
      " * sqlite:///accident.db\n",
      "Done.\n"
     ]
    },
    {
     "data": {
      "text/html": [
       "<table>\n",
       "    <tr>\n",
       "        <th>count(*)</th>\n",
       "    </tr>\n",
       "    <tr>\n",
       "        <td>2702644</td>\n",
       "    </tr>\n",
       "</table>"
      ],
      "text/plain": [
       "[(2702644,)]"
      ]
     },
     "execution_count": 58,
     "metadata": {},
     "output_type": "execute_result"
    }
   ],
   "source": [
    "%%sql\n",
    "SELECT count(*)\n",
    "FROM  accident as a\n",
    "LEFT JOIN holiday as b\n",
    "ON  a.Date = b.Date\n",
    "WHERE Holiday IS NULL;"
   ]
  },
  {
   "cell_type": "code",
   "execution_count": 59,
   "id": "8196c114",
   "metadata": {},
   "outputs": [
    {
     "name": "stdout",
     "output_type": "stream",
     "text": [
      "The percentage accident occurs during holiday is 5.015144049467516%\n"
     ]
    }
   ],
   "source": [
    "percentage = ((2845342 -2702644)/2845342)*100\n",
    "print('The percentage accident occurs during holiday is ' + str(percentage) + '%'  )"
   ]
  }
 ],
 "metadata": {
  "kernelspec": {
   "display_name": "Python 3 (ipykernel)",
   "language": "python",
   "name": "python3"
  },
  "language_info": {
   "codemirror_mode": {
    "name": "ipython",
    "version": 3
   },
   "file_extension": ".py",
   "mimetype": "text/x-python",
   "name": "python",
   "nbconvert_exporter": "python",
   "pygments_lexer": "ipython3",
   "version": "3.9.12"
  }
 },
 "nbformat": 4,
 "nbformat_minor": 5
}
